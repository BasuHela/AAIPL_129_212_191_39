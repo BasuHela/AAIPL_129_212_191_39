{
 "cells": [
  {
   "cell_type": "code",
   "execution_count": 46,
   "id": "ee359172-e68b-4256-8560-c21560901ec8",
   "metadata": {},
   "outputs": [],
   "source": [
    "with open('final_blood_truth_seating_val.json','r',encoding='utf-8') as f:\n",
    "    t_string=f.read()"
   ]
  },
  {
   "cell_type": "code",
   "execution_count": 47,
   "id": "df9b475f-c94b-4fd7-a995-3e4cd36f7bcb",
   "metadata": {},
   "outputs": [
    {
     "name": "stdout",
     "output_type": "stream",
     "text": [
      "6115\n"
     ]
    }
   ],
   "source": [
    "val_array=eval(t_string)\n",
    "print(len(val_array))"
   ]
  },
  {
   "cell_type": "code",
   "execution_count": 48,
   "id": "3e4fa963-2adc-4a04-89ed-fa75acca8c65",
   "metadata": {},
   "outputs": [],
   "source": [
    "import random"
   ]
  },
  {
   "cell_type": "code",
   "execution_count": 49,
   "id": "34f8ff75-bbe1-453e-a3cf-016fdcec4a7e",
   "metadata": {},
   "outputs": [],
   "source": [
    "random.shuffle(val_array)"
   ]
  },
  {
   "cell_type": "code",
   "execution_count": 50,
   "id": "d96a3443-ed4e-4359-ba71-566e32e5950f",
   "metadata": {},
   "outputs": [
    {
     "name": "stdout",
     "output_type": "stream",
     "text": [
      "6115\n"
     ]
    }
   ],
   "source": [
    "print(len(val_array))"
   ]
  },
  {
   "cell_type": "code",
   "execution_count": 51,
   "id": "ac644312-6a1f-4a75-ae42-4c666e345016",
   "metadata": {},
   "outputs": [
    {
     "data": {
      "text/plain": [
       "[{'topic': 'Blood Relations and Family Tree',\n",
       "  'question': \"Alma and her son Kevin go with Vanessa to the baseball game. Helen was eager to see her niece, Vanessa. They had n't seen each other in ages How is Alma related to Helen?\",\n",
       "  'choices': ['A) Sister', 'B) Grandson', 'C) Brother', 'D) Daughter'],\n",
       "  'answer': 'A',\n",
       "  'explanation': \"Based on the provided story, the relationship between Alma and Helen is 'sister'.\"},\n",
       " {'topic': 'Truth-teller and Liar Problems',\n",
       "  'question': 'Imani states \"If Dagmar is someone who is truthful, then Marco is an honest individual.\" Marco maintains \"If Dagmar is an honest person, then Olga is an unreliable person.\" Olga maintains \"Imani is a reliable person.\" Who is the honest person?',\n",
       "  'choices': ['A) Dagmar', 'B) Marco', 'C) Imani', 'D) Olga'],\n",
       "  'answer': 'D',\n",
       "  'explanation': \"Solution: reliable individuals: Marco, Olga, Imani. dishonest people: Dagmar. Each person's statement must be consistent with their nature.\",\n",
       "  'token_count': 71},\n",
       " {'topic': 'Truth-teller and Liar Problems',\n",
       "  'question': 'Alex declares \"If Iko is a reliable person, then Brigitte is an untrustworthy person.\" Brigitte insists \"If Alex is a reliable person, then Iko is an untrustworthy person.\" Iko insists \"Brigitte is a truthful individual.\" Who is the reliable person?',\n",
       "  'choices': ['A) Iko', 'B) Alex', 'C) Brigitte', 'D) None'],\n",
       "  'answer': 'A',\n",
       "  'explanation': \"Solution: reliable individuals: Iko, Brigitte. dishonest people: Alex. Each person's statement must be consistent with their nature.\",\n",
       "  'token_count': 77},\n",
       " {'topic': 'Truth-teller and Liar Problems',\n",
       "  'question': 'Xara claims \"If Yves is an honest person, then Nico is someone who is dishonest.\" Yves believes \"Xara is someone who is honest.\" Nico states \"If Yves is someone who tells the truth, then Xara is someone who is dishonest.\" Who is the honest person?',\n",
       "  'choices': ['A) Nico', 'B) Xara', 'C) Yves', 'D) None'],\n",
       "  'answer': 'B',\n",
       "  'explanation': \"Solution: reliable individuals: Yves, Xara. unreliable individuals: Nico. Each person's statement must be consistent with their nature.\",\n",
       "  'token_count': 74},\n",
       " {'topic': 'Truth-teller and Liar Problems',\n",
       "  'question': 'Nico insists \"If Claire is an honest individual, then Yves is a dishonest individual.\" Claire states \"Nico is someone who is honest.\" Xara believes \"Claire is a trustworthy person.\" Who is the honest individual?',\n",
       "  'choices': ['A) Xara', 'B) Yves', 'C) Claire', 'D) Nico'],\n",
       "  'answer': 'A',\n",
       "  'explanation': \"Solution: reliable individuals: Claire, Xara, Nico. unreliable individuals: Yves. Each person's statement must be consistent with their nature.\",\n",
       "  'token_count': 61}]"
      ]
     },
     "execution_count": 51,
     "metadata": {},
     "output_type": "execute_result"
    }
   ],
   "source": [
    "val_array[:5]"
   ]
  },
  {
   "cell_type": "code",
   "execution_count": 52,
   "id": "511a6c14-aeb5-451a-ad41-ed8618442d25",
   "metadata": {},
   "outputs": [],
   "source": [
    "length=100\n",
    "small_array=val_array[:length]"
   ]
  },
  {
   "cell_type": "code",
   "execution_count": 53,
   "id": "6c5306c3-6eef-44cc-89ee-193977b2d895",
   "metadata": {},
   "outputs": [
    {
     "name": "stdout",
     "output_type": "stream",
     "text": [
      "100\n"
     ]
    }
   ],
   "source": [
    "print(len(small_array))"
   ]
  },
  {
   "cell_type": "code",
   "execution_count": 54,
   "id": "82f7f8d3-a067-4da2-8427-892a7c371b0f",
   "metadata": {},
   "outputs": [],
   "source": [
    "import json"
   ]
  },
  {
   "cell_type": "code",
   "execution_count": 55,
   "id": "6c8f2d70-4753-48bb-879a-04ba219db724",
   "metadata": {},
   "outputs": [],
   "source": [
    "test_set=json.dumps(small_array,indent=2)"
   ]
  },
  {
   "cell_type": "code",
   "execution_count": 56,
   "id": "adaffdc8-87bd-4303-aa04-7212434f7bfb",
   "metadata": {},
   "outputs": [],
   "source": [
    "def save_json_to_file(json_string, filename):\n",
    "    \"\"\"\n",
    "    Saves a JSON string to a specified file.\n",
    "\n",
    "    Args:\n",
    "        json_string (str): The JSON formatted string to save.\n",
    "        filename (str): The name of the file to save the JSON to (e.g., 'output.json').\n",
    "    \"\"\"\n",
    "    try:\n",
    "        # The 'with' statement ensures the file is properly closed after writing.\n",
    "        # 'w' mode means we are writing to the file (and will overwrite it if it exists).\n",
    "        # 'encoding='utf-8'' is good practice to prevent issues with special characters.\n",
    "        with open(filename, 'w', encoding='utf-8') as f:\n",
    "            f.write(json_string)\n",
    "        print(f\"Successfully saved JSON data to '{filename}'\")\n",
    "    except IOError as e:\n",
    "        print(f\"Error: Could not write to file '{filename}'. Reason: {e}\")"
   ]
  },
  {
   "cell_type": "code",
   "execution_count": 57,
   "id": "4415ca72-7892-4993-a612-a7644e0456c1",
   "metadata": {},
   "outputs": [
    {
     "name": "stdout",
     "output_type": "stream",
     "text": [
      "Successfully saved JSON data to 'small_val.json'\n"
     ]
    }
   ],
   "source": [
    "save_json_to_file(test_set, 'small_val.json')"
   ]
  },
  {
   "cell_type": "code",
   "execution_count": null,
   "id": "b40b4700-1902-46ad-b5c9-960103f6f947",
   "metadata": {},
   "outputs": [],
   "source": []
  },
  {
   "cell_type": "code",
   "execution_count": null,
   "id": "3e061ef3-17b2-4d73-9c5b-16988cd7cd55",
   "metadata": {},
   "outputs": [],
   "source": []
  }
 ],
 "metadata": {
  "kernelspec": {
   "display_name": "Python 3 (ipykernel)",
   "language": "python",
   "name": "python3"
  },
  "language_info": {
   "codemirror_mode": {
    "name": "ipython",
    "version": 3
   },
   "file_extension": ".py",
   "mimetype": "text/x-python",
   "name": "python",
   "nbconvert_exporter": "python",
   "pygments_lexer": "ipython3",
   "version": "3.12.10"
  }
 },
 "nbformat": 4,
 "nbformat_minor": 5
}
