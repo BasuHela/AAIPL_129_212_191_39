{
 "cells": [
  {
   "cell_type": "code",
   "execution_count": 21,
   "id": "ee359172-e68b-4256-8560-c21560901ec8",
   "metadata": {},
   "outputs": [],
   "source": [
    "with open('final_blood_truth_seating_val.json','r',encoding='utf-8') as f:\n",
    "    t_string=f.read()"
   ]
  },
  {
   "cell_type": "code",
   "execution_count": 22,
   "id": "df9b475f-c94b-4fd7-a995-3e4cd36f7bcb",
   "metadata": {},
   "outputs": [
    {
     "name": "stdout",
     "output_type": "stream",
     "text": [
      "6115\n"
     ]
    }
   ],
   "source": [
    "val_array=eval(t_string)\n",
    "print(len(val_array))"
   ]
  },
  {
   "cell_type": "code",
   "execution_count": 23,
   "id": "3e4fa963-2adc-4a04-89ed-fa75acca8c65",
   "metadata": {},
   "outputs": [],
   "source": [
    "import random"
   ]
  },
  {
   "cell_type": "code",
   "execution_count": 24,
   "id": "34f8ff75-bbe1-453e-a3cf-016fdcec4a7e",
   "metadata": {},
   "outputs": [],
   "source": [
    "random.shuffle(val_array)"
   ]
  },
  {
   "cell_type": "code",
   "execution_count": 25,
   "id": "d96a3443-ed4e-4359-ba71-566e32e5950f",
   "metadata": {},
   "outputs": [
    {
     "name": "stdout",
     "output_type": "stream",
     "text": [
      "6115\n"
     ]
    }
   ],
   "source": [
    "print(len(val_array))"
   ]
  },
  {
   "cell_type": "code",
   "execution_count": 26,
   "id": "ac644312-6a1f-4a75-ae42-4c666e345016",
   "metadata": {},
   "outputs": [
    {
     "data": {
      "text/plain": [
       "[{'topic': 'Truth-teller and Liar Problems',\n",
       "  'question': 'Dagmar asserts \"Kiko is someone who is untruthful.\" Kiko believes \"If Wazi is an honest person, then Dagmar is an untruthful person.\" Wazi maintains \"Kiko is someone who is honest.\" Who is the someone who tells the truth?',\n",
       "  'choices': ['A) Dagmar', 'B) Kiko', 'C) Wazi', 'D) None'],\n",
       "  'answer': 'B',\n",
       "  'explanation': \"Solution: reliable individuals: Kiko, Wazi. liars: Dagmar. Each person's statement must be consistent with their nature.\",\n",
       "  'token_count': 73},\n",
       " {'topic': 'Blood Relations and Family Tree',\n",
       "  'question': 'Sandy is taking a trip to see her sister Claudia. Claudia borrowed some money from her brother Lionel. Scott is a man with a granddaughter named Sandy. How is Scott related to Lionel?',\n",
       "  'choices': ['A) Grandson', 'B) Grandmother', 'C) Mother', 'D) Sister'],\n",
       "  'answer': 'A',\n",
       "  'explanation': \"Based on the provided story, the relationship between Scott and Lionel is 'grandson'.\"},\n",
       " {'topic': 'Blood Relations and Family Tree',\n",
       "  'question': 'Mary, a female, took her husband who is a male, Roy, out for lunch. Ernest bought to dress for his father Roy How is Mary related to Ernest?',\n",
       "  'choices': ['A) Father-in-law', 'B) Sister', 'C) Son', 'D) Aunt'],\n",
       "  'answer': 'C',\n",
       "  'explanation': \"Based on the provided story, the relationship between Mary and Ernest is 'son'.\"},\n",
       " {'topic': 'Blood Relations and Family Tree',\n",
       "  'question': 'Glenda was celebrating her birthday with her mother Michelle. Michelle and her daughter Clara went out for ice cream. Michelle got a cone and Clara got a sundae. Clara asked her father Rich if he could beat up a bully at school for her. Rich told her she had to learn to fight her own battles, but he did teach her how to throw a punch. How is Glenda related to Rich?',\n",
       "  'choices': ['A) Father', 'B) Son', 'C) Uncle', 'D) Son-in-law'],\n",
       "  'answer': 'A',\n",
       "  'explanation': \"Based on the provided story, the relationship between Glenda and Rich is 'father'.\"},\n",
       " {'topic': 'Truth-teller and Liar Problems',\n",
       "  'question': 'Kim says \"If Olga is an honest individual, then Beth is someone who is reliable.\" Beth claims \"If Olga is someone who is reliable, then Kim is a liar.\" Olga asserts \"If Kim is a truth-teller, then Beth is someone who is dishonest.\" Who is the honest person?',\n",
       "  'choices': ['A) Olga', 'B) Kim', 'C) Beth', 'D) None'],\n",
       "  'answer': 'B',\n",
       "  'explanation': \"Solution: honest people: Kim, Beth. unreliable individuals: Olga. Each person's statement must be consistent with their nature.\",\n",
       "  'token_count': 76}]"
      ]
     },
     "execution_count": 26,
     "metadata": {},
     "output_type": "execute_result"
    }
   ],
   "source": [
    "val_array[:5]"
   ]
  },
  {
   "cell_type": "code",
   "execution_count": 27,
   "id": "511a6c14-aeb5-451a-ad41-ed8618442d25",
   "metadata": {},
   "outputs": [],
   "source": [
    "length=200\n",
    "small_array=val_array[:length]"
   ]
  },
  {
   "cell_type": "code",
   "execution_count": 28,
   "id": "6c5306c3-6eef-44cc-89ee-193977b2d895",
   "metadata": {},
   "outputs": [
    {
     "name": "stdout",
     "output_type": "stream",
     "text": [
      "200\n"
     ]
    }
   ],
   "source": [
    "print(len(small_array))"
   ]
  },
  {
   "cell_type": "code",
   "execution_count": 29,
   "id": "82f7f8d3-a067-4da2-8427-892a7c371b0f",
   "metadata": {},
   "outputs": [],
   "source": [
    "import json"
   ]
  },
  {
   "cell_type": "code",
   "execution_count": 30,
   "id": "6c8f2d70-4753-48bb-879a-04ba219db724",
   "metadata": {},
   "outputs": [],
   "source": [
    "test_set=json.dumps(small_array,indent=2)"
   ]
  },
  {
   "cell_type": "code",
   "execution_count": 31,
   "id": "adaffdc8-87bd-4303-aa04-7212434f7bfb",
   "metadata": {},
   "outputs": [],
   "source": [
    "def save_json_to_file(json_string, filename):\n",
    "    \"\"\"\n",
    "    Saves a JSON string to a specified file.\n",
    "\n",
    "    Args:\n",
    "        json_string (str): The JSON formatted string to save.\n",
    "        filename (str): The name of the file to save the JSON to (e.g., 'output.json').\n",
    "    \"\"\"\n",
    "    try:\n",
    "        # The 'with' statement ensures the file is properly closed after writing.\n",
    "        # 'w' mode means we are writing to the file (and will overwrite it if it exists).\n",
    "        # 'encoding='utf-8'' is good practice to prevent issues with special characters.\n",
    "        with open(filename, 'w', encoding='utf-8') as f:\n",
    "            f.write(json_string)\n",
    "        print(f\"Successfully saved JSON data to '{filename}'\")\n",
    "    except IOError as e:\n",
    "        print(f\"Error: Could not write to file '{filename}'. Reason: {e}\")"
   ]
  },
  {
   "cell_type": "code",
   "execution_count": 32,
   "id": "4415ca72-7892-4993-a612-a7644e0456c1",
   "metadata": {},
   "outputs": [
    {
     "name": "stdout",
     "output_type": "stream",
     "text": [
      "Successfully saved JSON data to 'small_val.json'\n"
     ]
    }
   ],
   "source": [
    "save_json_to_file(test_set, 'small_val.json')"
   ]
  },
  {
   "cell_type": "code",
   "execution_count": null,
   "id": "b40b4700-1902-46ad-b5c9-960103f6f947",
   "metadata": {},
   "outputs": [],
   "source": []
  },
  {
   "cell_type": "code",
   "execution_count": null,
   "id": "3e061ef3-17b2-4d73-9c5b-16988cd7cd55",
   "metadata": {},
   "outputs": [],
   "source": []
  }
 ],
 "metadata": {
  "kernelspec": {
   "display_name": "Python 3 (ipykernel)",
   "language": "python",
   "name": "python3"
  },
  "language_info": {
   "codemirror_mode": {
    "name": "ipython",
    "version": 3
   },
   "file_extension": ".py",
   "mimetype": "text/x-python",
   "name": "python",
   "nbconvert_exporter": "python",
   "pygments_lexer": "ipython3",
   "version": "3.12.10"
  }
 },
 "nbformat": 4,
 "nbformat_minor": 5
}
