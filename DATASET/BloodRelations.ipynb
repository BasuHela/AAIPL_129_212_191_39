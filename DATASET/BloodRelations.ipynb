{
 "cells": [
  {
   "cell_type": "code",
   "execution_count": 1,
   "id": "bb9791b2-9e6d-408a-839c-7d51ff44732a",
   "metadata": {},
   "outputs": [],
   "source": [
    "from datasets import load_dataset, concatenate_datasets"
   ]
  },
  {
   "cell_type": "code",
   "execution_count": 2,
   "id": "d6710bea-b5c0-4f35-82da-e502d6c9b680",
   "metadata": {},
   "outputs": [
    {
     "name": "stderr",
     "output_type": "stream",
     "text": [
      "Using the latest cached version of the dataset since CLUTRR/v1 couldn't be found on the Hugging Face Hub\n",
      "Found the latest cached dataset configuration 'rob_train_clean_23_test_all_23' at /root/.cache/huggingface/datasets/CLUTRR___v1/rob_train_clean_23_test_all_23/1.0.0/a8158d1fac10864c3424d53662fe63bf7d82dd87 (last modified on Sat Jul 19 10:20:48 2025).\n"
     ]
    }
   ],
   "source": [
    "ds1 = load_dataset(\"CLUTRR/v1\",'rob_train_clean_23_test_all_23')  # Blood relations"
   ]
  },
  {
   "cell_type": "code",
   "execution_count": 3,
   "id": "0a5dfc08-66c2-4ba5-afb7-8231ab27be30",
   "metadata": {},
   "outputs": [
    {
     "data": {
      "text/plain": [
       "DatasetDict({\n",
       "    train: Dataset({\n",
       "        features: ['id', 'story', 'query', 'target', 'target_text', 'clean_story', 'proof_state', 'f_comb', 'task_name', 'story_edges', 'edge_types', 'query_edge', 'genders', 'task_split'],\n",
       "        num_rows: 8098\n",
       "    })\n",
       "    validation: Dataset({\n",
       "        features: ['id', 'story', 'query', 'target', 'target_text', 'clean_story', 'proof_state', 'f_comb', 'task_name', 'story_edges', 'edge_types', 'query_edge', 'genders', 'task_split'],\n",
       "        num_rows: 2026\n",
       "    })\n",
       "    test: Dataset({\n",
       "        features: ['id', 'story', 'query', 'target', 'target_text', 'clean_story', 'proof_state', 'f_comb', 'task_name', 'story_edges', 'edge_types', 'query_edge', 'genders', 'task_split'],\n",
       "        num_rows: 447\n",
       "    })\n",
       "})"
      ]
     },
     "execution_count": 3,
     "metadata": {},
     "output_type": "execute_result"
    }
   ],
   "source": [
    "ds1"
   ]
  },
  {
   "cell_type": "code",
   "execution_count": 4,
   "id": "5967b75c-3953-4fe2-b253-b1af396d154f",
   "metadata": {},
   "outputs": [
    {
     "data": {
      "text/plain": [
       "Dataset({\n",
       "    features: ['id', 'story', 'query', 'target', 'target_text', 'clean_story', 'proof_state', 'f_comb', 'task_name', 'story_edges', 'edge_types', 'query_edge', 'genders', 'task_split'],\n",
       "    num_rows: 8098\n",
       "})"
      ]
     },
     "execution_count": 4,
     "metadata": {},
     "output_type": "execute_result"
    }
   ],
   "source": [
    "ds1['train']"
   ]
  },
  {
   "cell_type": "code",
   "execution_count": 5,
   "id": "9ea84df6-326f-461f-9db1-4190a4d4ec32",
   "metadata": {},
   "outputs": [
    {
     "name": "stdout",
     "output_type": "stream",
     "text": [
      "<class 'datasets.dataset_dict.DatasetDict'>\n"
     ]
    }
   ],
   "source": [
    "print(type(ds1))"
   ]
  },
  {
   "cell_type": "code",
   "execution_count": 6,
   "id": "575dbd63-381d-4523-8dad-4d7c1fc4ce56",
   "metadata": {},
   "outputs": [
    {
     "data": {
      "text/plain": [
       "Dataset({\n",
       "    features: ['id', 'story', 'query', 'target', 'target_text', 'clean_story', 'proof_state', 'f_comb', 'task_name', 'story_edges', 'edge_types', 'query_edge', 'genders', 'task_split'],\n",
       "    num_rows: 447\n",
       "})"
      ]
     },
     "execution_count": 6,
     "metadata": {},
     "output_type": "execute_result"
    }
   ],
   "source": [
    "ds1['test']"
   ]
  },
  {
   "cell_type": "code",
   "execution_count": 7,
   "id": "c2f39ea2-e0c4-4f60-9f81-c994473e58c4",
   "metadata": {},
   "outputs": [],
   "source": [
    "train=ds1['train']"
   ]
  },
  {
   "cell_type": "code",
   "execution_count": 8,
   "id": "fa2cfa3e-a294-4156-a703-aa533dcb00ca",
   "metadata": {},
   "outputs": [],
   "source": [
    "data_lines=[]"
   ]
  },
  {
   "cell_type": "code",
   "execution_count": 9,
   "id": "c78224ea-b65f-4070-a9ab-7ee1c59572b7",
   "metadata": {},
   "outputs": [],
   "source": [
    "for st, que, tar in zip(train['story'],train['query'],train['target_text']):\n",
    "    line='|'.join([st,que,tar])\n",
    "    data_lines.append(line)"
   ]
  },
  {
   "cell_type": "code",
   "execution_count": null,
   "id": "cb6a2734-b7fa-466c-bf29-d8190d19f338",
   "metadata": {},
   "outputs": [],
   "source": []
  },
  {
   "cell_type": "code",
   "execution_count": 10,
   "id": "ace12c69-27f1-4453-8f2c-eaa42d9ac4c3",
   "metadata": {},
   "outputs": [],
   "source": [
    "dummy_choices=set(ds1['train']['target_text'])"
   ]
  },
  {
   "cell_type": "code",
   "execution_count": 11,
   "id": "746e77cf-7c71-4627-b041-714d408f810b",
   "metadata": {},
   "outputs": [
    {
     "name": "stdout",
     "output_type": "stream",
     "text": [
      "18\n"
     ]
    }
   ],
   "source": [
    "print(len(dummy_choices))"
   ]
  },
  {
   "cell_type": "code",
   "execution_count": 12,
   "id": "c229947d-ca22-4285-8513-4db8adf29cdf",
   "metadata": {},
   "outputs": [],
   "source": [
    "train=ds1['validation']\n",
    "for st, que, tar in zip(train['story'],train['query'],train['target_text']):\n",
    "    line='|'.join([st,que,tar])\n",
    "    data_lines.append(line)\n"
   ]
  },
  {
   "cell_type": "code",
   "execution_count": 13,
   "id": "02e84748-4e68-4fef-970f-468634b98375",
   "metadata": {},
   "outputs": [],
   "source": [
    "train=ds1['test']\n",
    "for st, que, tar in zip(train['story'],train['query'],train['target_text']):\n",
    "    line='|'.join([st,que,tar])\n",
    "    data_lines.append(line)\n"
   ]
  },
  {
   "cell_type": "code",
   "execution_count": 14,
   "id": "07295090-9348-43e2-a8d0-723ac939801f",
   "metadata": {},
   "outputs": [],
   "source": [
    "import json\n",
    "import random\n",
    "import ast\n",
    "\n",
    "def convert_data_to_json_format(data_lines,dummy_choices_pool=dummy_choices):\n",
    "    \"\"\"\n",
    "    Converts a list of strings in a specific pipe-separated format into a JSON\n",
    "    object structured like the provided example.\n",
    "\n",
    "    This function parses each input line, generates multiple-choice options,\n",
    "    and constructs a detailed JSON object for each entry.\n",
    "\n",
    "    Args:\n",
    "        data_lines (list): A list of strings, where each string is in the format:\n",
    "                           '[Story text...]|[('Person1', 'Person2')]|[answer]'\n",
    "\n",
    "    Returns:\n",
    "        str: A JSON formatted string representing the list of converted puzzle objects.\n",
    "    \"\"\"\n",
    "    output_array = []\n",
    "    \n",
    "    for line in data_lines:\n",
    "        try:\n",
    "            # 1. Parse the Input String\n",
    "            # The line is split by the '|' delimiter into its three core components.\n",
    "            line=line.replace('[','')\n",
    "            line=line.replace(']','')\n",
    "            story, query_str, correct_answer_text = line.strip().split('|')\n",
    "            correct_answer_text = correct_answer_text.strip()\n",
    "\n",
    "            # 2. Extract Names from the Query\n",
    "            # ast.literal_eval is used to safely parse the string tuple \"('Name1', 'Name2')\"\n",
    "            # into an actual Python tuple.\n",
    "            names_tuple = ast.literal_eval(query_str.strip())\n",
    "            person1, person2 = names_tuple\n",
    "\n",
    "            # 3. Construct the 'question' Field\n",
    "            # The question is formed by combining the story and a direct query about the\n",
    "            # relationship between the two individuals.\n",
    "            question_text = f\"{story} How is {person1} related to {person2}?\"\n",
    "\n",
    "            # 4. Generate Multiple-Choice Options\n",
    "            # Since the source data only has the answer, we must generate other options.\n",
    "            choices = [correct_answer_text]\n",
    "            \n",
    "            # Create a temporary pool of incorrect choices, excluding the correct one.\n",
    "            temp_pool = [c for c in dummy_choices_pool if c.lower() != correct_answer_text.lower()]\n",
    "            \n",
    "            # Add 3 unique incorrect choices from the pool.\n",
    "            choices.extend(random.sample(temp_pool, 3))\n",
    "            \n",
    "            # Shuffle the choices to randomize the position of the correct answer.\n",
    "            random.shuffle(choices)\n",
    "\n",
    "            # 5. Determine the Correct Answer's Letter ('A', 'B', 'C', or 'D')\n",
    "            correct_answer_index = choices.index(correct_answer_text)\n",
    "            correct_answer_letter = chr(ord('A') + correct_answer_index)\n",
    "            choice_index=['A)','B)','C)','D)']\n",
    "            new_choices=[]\n",
    "            for idx,choice in enumerate(choices):\n",
    "                n_c=choice_index[idx]+' '+choice.capitalize()\n",
    "                new_choices.append(n_c)\n",
    "            choices=new_choices\n",
    "            # 6. Create a Simple Explanation\n",
    "            # A generic explanation is created based on the known information.\n",
    "            explanation_text = (f\"Based on the provided story, the relationship between \"\n",
    "                                f\"{person1} and {person2} is '{correct_answer_text}'.\")\n",
    "\n",
    "            # 7. Assemble the Final JSON Object\n",
    "            # All the processed parts are combined into a dictionary that matches the target format.\n",
    "            json_object = {\n",
    "                \"topic\": \"Blood Relations and Family Tree\",\n",
    "                \"question\": question_text,\n",
    "                \"choices\": choices,\n",
    "                \"answer\": correct_answer_letter,\n",
    "                \"explanation\": explanation_text\n",
    "            }\n",
    "            \n",
    "            output_array.append(json_object)\n",
    "\n",
    "        except (ValueError, SyntaxError) as e:\n",
    "            # Skip any lines that don't fit the expected format.\n",
    "            print(f\"Skipping malformed line: '{line}'. Error: {e}\")\n",
    "            continue\n",
    "\n",
    "    # 8. Return the Final JSON String\n",
    "    # The list of dictionaries is converted into a nicely indented JSON string.\n",
    "    return json.dumps(output_array, indent=2)"
   ]
  },
  {
   "cell_type": "code",
   "execution_count": 15,
   "id": "8379be20-7aa5-4789-a3bb-ce7a310c4ba3",
   "metadata": {},
   "outputs": [],
   "source": [
    "train_array=convert_data_to_json_format(data_lines)"
   ]
  },
  {
   "cell_type": "code",
   "execution_count": 16,
   "id": "0dd2c053-8e53-44b8-b22a-53d8cbfa4a93",
   "metadata": {},
   "outputs": [],
   "source": [
    "def save_json_to_file(json_string, filename):\n",
    "    \"\"\"\n",
    "    Saves a JSON string to a specified file.\n",
    "\n",
    "    Args:\n",
    "        json_string (str): The JSON formatted string to save.\n",
    "        filename (str): The name of the file to save the JSON to (e.g., 'output.json').\n",
    "    \"\"\"\n",
    "    try:\n",
    "        # The 'with' statement ensures the file is properly closed after writing.\n",
    "        # 'w' mode means we are writing to the file (and will overwrite it if it exists).\n",
    "        # 'encoding='utf-8'' is good practice to prevent issues with special characters.\n",
    "        with open(filename, 'w', encoding='utf-8') as f:\n",
    "            f.write(json_string)\n",
    "        print(f\"Successfully saved JSON data to '{filename}'\")\n",
    "    except IOError as e:\n",
    "        print(f\"Error: Could not write to file '{filename}'. Reason: {e}\")"
   ]
  },
  {
   "cell_type": "code",
   "execution_count": 17,
   "id": "fe89ba23-341a-40b6-8cb4-29b60721d016",
   "metadata": {},
   "outputs": [
    {
     "name": "stdout",
     "output_type": "stream",
     "text": [
      "Successfully saved JSON data to 'blood_relation_final.json'\n"
     ]
    }
   ],
   "source": [
    "save_json_to_file(train_array, 'blood_relation_final.json')"
   ]
  },
  {
   "cell_type": "code",
   "execution_count": 18,
   "id": "3caaaa60-51ff-41bd-9bbc-233f05960f05",
   "metadata": {},
   "outputs": [],
   "source": [
    "import random\n",
    "\n",
    "def shuffle_and_split_puzzles(json_data, train_ratio = 0.8):\n",
    "    \"\"\"\n",
    "    Shuffles a list of puzzle examples and splits it into a training and testing set.\n",
    "\n",
    "    Args:\n",
    "        json_data (list): A list of dictionaries, where each dictionary represents a puzzle.\n",
    "\n",
    "    Returns:\n",
    "        tuple: A tuple containing the training set (list) and the testing set (list).\n",
    "    \"\"\"\n",
    "    random.seed(42)\n",
    "    json_data=eval(json_data)\n",
    "\n",
    "    print(f\"Original number of examples: {len(json_data)}\\n\")\n",
    "    random.shuffle(json_data)\n",
    "    \n",
    "    print(\"--- Data has been shuffled ---\\n\")\n",
    "\n",
    "    # Define the ratio for the training set (e.g., 80% for training).\n",
    "    \n",
    "    # Calculate the index at which to split the data.\n",
    "    total_size = len(json_data)\n",
    "    split_index = int(total_size * train_ratio)\n",
    "\n",
    "    # Split the shuffled data into training and testing sets using list slicing.\n",
    "    train_set = json_data[:split_index]\n",
    "    test_set = json_data[split_index:]\n",
    "    train_set=json.dumps(train_set, indent=2)\n",
    "    test_set=json.dumps(test_set,indent=2)\n",
    "    return train_set, test_set"
   ]
  },
  {
   "cell_type": "code",
   "execution_count": 19,
   "id": "69096ad3-8a19-479d-9563-cfdf4b098ab0",
   "metadata": {},
   "outputs": [
    {
     "name": "stdout",
     "output_type": "stream",
     "text": [
      "Original number of examples: 10571\n",
      "\n",
      "--- Data has been shuffled ---\n",
      "\n"
     ]
    }
   ],
   "source": [
    "train_array,validation_array=shuffle_and_split_puzzles(train_array)"
   ]
  },
  {
   "cell_type": "code",
   "execution_count": 20,
   "id": "e872e93e-2ad9-48f6-b9ff-8ba65ba66df5",
   "metadata": {},
   "outputs": [
    {
     "name": "stdout",
     "output_type": "stream",
     "text": [
      "Successfully saved JSON data to 'blood_relation_final_train.json'\n"
     ]
    }
   ],
   "source": [
    "save_json_to_file(train_array, 'blood_relation_final_train.json')"
   ]
  },
  {
   "cell_type": "code",
   "execution_count": 21,
   "id": "869134ef-6280-4cc8-a79b-4a7c6127b90c",
   "metadata": {},
   "outputs": [
    {
     "name": "stdout",
     "output_type": "stream",
     "text": [
      "Successfully saved JSON data to 'blood_relation_final_val.json'\n"
     ]
    }
   ],
   "source": [
    "save_json_to_file(validation_array,'blood_relation_final_val.json')"
   ]
  },
  {
   "cell_type": "code",
   "execution_count": 22,
   "id": "83a39300-e23e-44aa-a8a4-ac507db8ac3c",
   "metadata": {},
   "outputs": [
    {
     "data": {
      "text/plain": [
       "[{'topic': 'Blood Relations and Family Tree',\n",
       "  'question': \"Martha and her husband John went to church. They were religious, and tried to go every Sunday. Renee's father, John just got out of a court hearing. How is Martha related to Renee?\",\n",
       "  'choices': ['A) Niece', 'B) Nephew', 'C) Brother', 'D) Daughter'],\n",
       "  'answer': 'D',\n",
       "  'explanation': \"Based on the provided story, the relationship between Martha and Renee is 'daughter'.\"},\n",
       " {'topic': 'Blood Relations and Family Tree',\n",
       "  'question': \"Helen's son, Joseph, went with her to the store to buy candy for Halloween. James is proud to be married to his loving wife Helen. Latisha takes her son James to the park every Saturday. How is Latisha related to Joseph?\",\n",
       "  'choices': ['A) Aunt', 'B) Brother', 'C) Daughter-in-law', 'D) Grandson'],\n",
       "  'answer': 'D',\n",
       "  'explanation': \"Based on the provided story, the relationship between Latisha and Joseph is 'grandson'.\"},\n",
       " {'topic': 'Blood Relations and Family Tree',\n",
       "  'question': \"Dorothea is taking her brother Joseph out for a late dinner. Helen, Joseph's mother, is home with a cold. Dorothea's grandmother Latisha baked cookies for her after she came home from school. How is Helen related to Latisha?\",\n",
       "  'choices': ['A) Uncle', 'B) Grandmother', 'C) Mother', 'D) Niece'],\n",
       "  'answer': 'C',\n",
       "  'explanation': \"Based on the provided story, the relationship between Helen and Latisha is 'mother'.\"},\n",
       " {'topic': 'Blood Relations and Family Tree',\n",
       "  'question': \"Ann's father John is home sick from work. John's father Roy is going to bring him some soup. How is Ann related to Roy?\",\n",
       "  'choices': ['A) Father', 'B) Grandfather', 'C) Nephew', 'D) Mother-in-law'],\n",
       "  'answer': 'B',\n",
       "  'explanation': \"Based on the provided story, the relationship between Ann and Roy is 'grandfather'.\"},\n",
       " {'topic': 'Blood Relations and Family Tree',\n",
       "  'question': 'John loves watching movies with his daughter. Her name is Melissa. Michelle and her brother John gave gift to their mother Latisha How is Melissa related to Michelle?',\n",
       "  'choices': ['A) Sister', 'B) Grandson', 'C) Aunt', 'D) Son-in-law'],\n",
       "  'answer': 'C',\n",
       "  'explanation': \"Based on the provided story, the relationship between Melissa and Michelle is 'aunt'.\"}]"
      ]
     },
     "execution_count": 22,
     "metadata": {},
     "output_type": "execute_result"
    }
   ],
   "source": [
    "train_array=eval(train_array)\n",
    "validation_array=eval(validation_array)\n",
    "train_array[:5]"
   ]
  },
  {
   "cell_type": "markdown",
   "id": "5073a1c6-a02e-4ce0-841e-fb3fdf7567d6",
   "metadata": {},
   "source": [
    "# Truth and Liar"
   ]
  },
  {
   "cell_type": "code",
   "execution_count": 23,
   "id": "31104346-60d3-4f6a-929e-19a6e5871aaf",
   "metadata": {},
   "outputs": [],
   "source": [
    "with open('truth_liar_full.json','r',encoding='utf-8') as f:\n",
    "    t_string=f.read()"
   ]
  },
  {
   "cell_type": "code",
   "execution_count": 24,
   "id": "e8f1428c-ed20-45bb-b9f1-3cc52272b125",
   "metadata": {},
   "outputs": [
    {
     "name": "stdout",
     "output_type": "stream",
     "text": [
      "<class 'str'>\n"
     ]
    }
   ],
   "source": [
    "print(type(t_string))"
   ]
  },
  {
   "cell_type": "code",
   "execution_count": 25,
   "id": "be8e264d-f31a-45e1-9e1a-7dbf3d5f2c0f",
   "metadata": {},
   "outputs": [],
   "source": [
    "truth_n_liar_array=eval(t_string)"
   ]
  },
  {
   "cell_type": "code",
   "execution_count": 26,
   "id": "e8c47dd1-d844-427a-a76c-12d46fdf7208",
   "metadata": {},
   "outputs": [
    {
     "name": "stdout",
     "output_type": "stream",
     "text": [
      "Original number of examples: 10000\n",
      "\n",
      "--- Data has been shuffled ---\n",
      "\n"
     ]
    }
   ],
   "source": [
    "t_train_array,t_validation_array=shuffle_and_split_puzzles(t_string)"
   ]
  },
  {
   "cell_type": "code",
   "execution_count": 27,
   "id": "b2afe5b6-6870-45b3-888a-2438c5a1e5d2",
   "metadata": {},
   "outputs": [
    {
     "name": "stdout",
     "output_type": "stream",
     "text": [
      "8456\n"
     ]
    }
   ],
   "source": [
    "print(len(train_array))"
   ]
  },
  {
   "cell_type": "code",
   "execution_count": 28,
   "id": "84a0b5a8-7918-4158-a689-5e4c10d1eee3",
   "metadata": {},
   "outputs": [],
   "source": [
    "t_train_array=eval(t_train_array)\n",
    "t_validation_array=eval(t_validation_array)"
   ]
  },
  {
   "cell_type": "code",
   "execution_count": 29,
   "id": "d9df222f-c1b7-4eb6-87bb-a8e70bd608da",
   "metadata": {},
   "outputs": [
    {
     "name": "stdout",
     "output_type": "stream",
     "text": [
      "8000\n"
     ]
    }
   ],
   "source": [
    "print(len(t_train_array))"
   ]
  },
  {
   "cell_type": "code",
   "execution_count": 30,
   "id": "86e7a60d-6199-4bac-aaf6-29787cedc1da",
   "metadata": {},
   "outputs": [],
   "source": [
    "train_array.extend(t_train_array)\n",
    "validation_array.extend(t_validation_array)"
   ]
  },
  {
   "cell_type": "code",
   "execution_count": 31,
   "id": "c19bec62-1a73-4b57-93ba-f850f9700bf6",
   "metadata": {},
   "outputs": [
    {
     "name": "stdout",
     "output_type": "stream",
     "text": [
      "16456\n"
     ]
    }
   ],
   "source": [
    "print(len(train_array))"
   ]
  },
  {
   "cell_type": "code",
   "execution_count": 32,
   "id": "8f56ae0f-a23c-431c-81c7-8824ad88500e",
   "metadata": {},
   "outputs": [],
   "source": [
    "train_set=json.dumps(train_array, indent=2)\n",
    "test_set=json.dumps(validation_array,indent=2)"
   ]
  },
  {
   "cell_type": "code",
   "execution_count": 33,
   "id": "1327f202-788f-41e0-af54-d8e59689c3be",
   "metadata": {},
   "outputs": [
    {
     "name": "stdout",
     "output_type": "stream",
     "text": [
      "Successfully saved JSON data to 'final_blood_truth_train.json'\n"
     ]
    }
   ],
   "source": [
    "save_json_to_file(train_set, 'final_blood_truth_train.json')"
   ]
  },
  {
   "cell_type": "code",
   "execution_count": 34,
   "id": "dc43b7f3-5498-448e-9821-20d7cfbbb9f4",
   "metadata": {},
   "outputs": [
    {
     "name": "stdout",
     "output_type": "stream",
     "text": [
      "Successfully saved JSON data to 'final_blood_truth_val.json'\n"
     ]
    }
   ],
   "source": [
    "save_json_to_file(test_set,'final_blood_truth_val.json')"
   ]
  },
  {
   "cell_type": "markdown",
   "id": "58de41ac-c6a7-4892-a381-107e47dc0108",
   "metadata": {},
   "source": [
    "# Seating Arrangements"
   ]
  },
  {
   "cell_type": "code",
   "execution_count": 35,
   "id": "24aecd24-ab8c-4cd9-8862-bd51bd84d6a7",
   "metadata": {},
   "outputs": [],
   "source": [
    "with open('amd_seating_10000_COMPREHENSIVE_CHAMPION.json','r',encoding='utf-8') as f:\n",
    "    t_string=f.read()"
   ]
  },
  {
   "cell_type": "code",
   "execution_count": 36,
   "id": "70b8a688-a472-48d1-a121-a35ae866206d",
   "metadata": {},
   "outputs": [],
   "source": [
    "seating_array=eval(t_string)"
   ]
  },
  {
   "cell_type": "code",
   "execution_count": 37,
   "id": "8a865923-0b9d-4002-b046-6b4a1d6cc277",
   "metadata": {},
   "outputs": [
    {
     "name": "stdout",
     "output_type": "stream",
     "text": [
      "Original number of examples: 10000\n",
      "\n",
      "--- Data has been shuffled ---\n",
      "\n"
     ]
    }
   ],
   "source": [
    "s_train_array, s_validation_array=shuffle_and_split_puzzles(t_string)"
   ]
  },
  {
   "cell_type": "code",
   "execution_count": 38,
   "id": "679db216-dd8f-41b9-b53c-2745c003c124",
   "metadata": {},
   "outputs": [],
   "source": [
    "s_train_array=eval(s_train_array)\n",
    "s_validation_array=eval(s_validation_array)"
   ]
  },
  {
   "cell_type": "code",
   "execution_count": 39,
   "id": "6f9aae63-b3f5-4fb9-ab16-6e58d7bc479c",
   "metadata": {},
   "outputs": [
    {
     "data": {
      "text/plain": [
       "[{'topic': 'Seating Arrangement',\n",
       "  'question': 'In a linear arrangement: Emilio, Paki, Qing, Vega, Gina. Who sits immediately to the right of Emilio?',\n",
       "  'choices': ['A) Emilio', 'B) Qing', 'C) Vega', 'D) Paki'],\n",
       "  'answer': 'D',\n",
       "  'explanation': 'Arrangement: Emilio, Paki, Qing, Vega, Gina. Looking at the linear arrangement, Paki is the adjacent person.',\n",
       "  'metadata': {'arrangement_type': 'linear',\n",
       "   'num_people': 5,\n",
       "   'question_type': 'adjacent_right',\n",
       "   'token_count': 41}},\n",
       " {'topic': 'Seating Arrangement',\n",
       "  'question': 'In a linear arrangement: Luis, Victor, Dean, Bruno, Feng. Who sits at position 4 from the left?',\n",
       "  'choices': ['A) Dean', 'B) Feng', 'C) Luis', 'D) Bruno'],\n",
       "  'answer': 'D',\n",
       "  'explanation': 'Arrangement: Luis, Victor, Dean, Bruno, Feng. Based on the spatial relationships, Bruno is the correct answer.',\n",
       "  'metadata': {'arrangement_type': 'linear',\n",
       "   'num_people': 5,\n",
       "   'question_type': 'nth_position',\n",
       "   'token_count': 37}},\n",
       " {'topic': 'Seating Arrangement',\n",
       "  'question': 'In a circular arrangement: Rose, Otto, Nami, Zoran, Nia. How many people sit between Otto and Rose?',\n",
       "  'choices': ['A) None', 'B) 0', 'C) Cannot determine', 'D) All of them'],\n",
       "  'answer': 'B',\n",
       "  'explanation': 'Arrangement: Rose, Otto, Nami, Zoran, Nia. Based on the spatial relationships, 0 is the correct answer.',\n",
       "  'metadata': {'arrangement_type': 'circular',\n",
       "   'num_people': 5,\n",
       "   'question_type': 'distance_count',\n",
       "   'token_count': 43}},\n",
       " {'topic': 'Seating Arrangement',\n",
       "  'question': 'In a circular arrangement: Thor, Jomo, York, Jin. Who sits directly opposite to Jomo?',\n",
       "  'choices': ['A) Jin', 'B) York', 'C) Thor', 'D) Jomo'],\n",
       "  'answer': 'A',\n",
       "  'explanation': 'Arrangement: Thor, Jomo, York, Jin. In the circular arrangement, Jin sits directly opposite.',\n",
       "  'metadata': {'arrangement_type': 'circular',\n",
       "   'num_people': 4,\n",
       "   'question_type': 'opposite_person',\n",
       "   'token_count': 35}},\n",
       " {'topic': 'Seating Arrangement',\n",
       "  'question': 'In a linear arrangement: Hilda, Lei, Adrian, Aaron, Ramon. Who sits at the rightmost position?',\n",
       "  'choices': ['A) Ramon', 'B) Aaron', 'C) Hilda', 'D) Lei'],\n",
       "  'answer': 'A',\n",
       "  'explanation': 'Arrangement: Hilda, Lei, Adrian, Aaron, Ramon. In the linear arrangement, Ramon occupies the end position.',\n",
       "  'metadata': {'arrangement_type': 'linear',\n",
       "   'num_people': 5,\n",
       "   'question_type': 'position_end',\n",
       "   'token_count': 39}}]"
      ]
     },
     "execution_count": 39,
     "metadata": {},
     "output_type": "execute_result"
    }
   ],
   "source": [
    "s_train_array[:5]"
   ]
  },
  {
   "cell_type": "code",
   "execution_count": 40,
   "id": "b4cfc92d-2c54-4a59-8189-084f780a6019",
   "metadata": {},
   "outputs": [
    {
     "name": "stdout",
     "output_type": "stream",
     "text": [
      "8000\n"
     ]
    }
   ],
   "source": [
    "print(len(s_train_array))"
   ]
  },
  {
   "cell_type": "code",
   "execution_count": 41,
   "id": "432617a3-57ff-4c1c-a453-674e163fc11a",
   "metadata": {},
   "outputs": [],
   "source": [
    "train_array.extend(t_train_array)\n",
    "validation_array.extend(t_validation_array)"
   ]
  },
  {
   "cell_type": "code",
   "execution_count": 42,
   "id": "111f3f70-87a0-4ea4-96a3-5164317ea74f",
   "metadata": {},
   "outputs": [
    {
     "name": "stdout",
     "output_type": "stream",
     "text": [
      "24456\n",
      "2000\n"
     ]
    }
   ],
   "source": [
    "print(len(train_array))\n",
    "print(len(t_validation_array))"
   ]
  },
  {
   "cell_type": "code",
   "execution_count": 43,
   "id": "c1418e1a-778a-41a1-94c4-44b285a514ac",
   "metadata": {},
   "outputs": [],
   "source": [
    "train_set=json.dumps(train_array, indent=2)\n",
    "test_set=json.dumps(validation_array,indent=2)"
   ]
  },
  {
   "cell_type": "code",
   "execution_count": 44,
   "id": "1eb98732-9e22-40d9-8ce5-f4caf6f32e01",
   "metadata": {},
   "outputs": [
    {
     "name": "stdout",
     "output_type": "stream",
     "text": [
      "Successfully saved JSON data to 'final_blood_truth_seating_train.json'\n",
      "Successfully saved JSON data to 'final_blood_truth_seating_val.json'\n"
     ]
    }
   ],
   "source": [
    "save_json_to_file(train_set, 'final_blood_truth_seating_train.json')\n",
    "save_json_to_file(test_set,'final_blood_truth_seating_val.json')"
   ]
  }
 ],
 "metadata": {
  "kernelspec": {
   "display_name": "Python 3 (ipykernel)",
   "language": "python",
   "name": "python3"
  },
  "language_info": {
   "codemirror_mode": {
    "name": "ipython",
    "version": 3
   },
   "file_extension": ".py",
   "mimetype": "text/x-python",
   "name": "python",
   "nbconvert_exporter": "python",
   "pygments_lexer": "ipython3",
   "version": "3.12.10"
  }
 },
 "nbformat": 4,
 "nbformat_minor": 5
}
